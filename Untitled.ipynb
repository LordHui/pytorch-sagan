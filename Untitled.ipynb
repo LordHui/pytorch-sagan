{
 "cells": [
  {
   "cell_type": "code",
   "execution_count": 11,
   "metadata": {},
   "outputs": [
    {
     "name": "stdout",
     "output_type": "stream",
     "text": [
      "Files already downloaded and verified\n"
     ]
    }
   ],
   "source": [
    "from torchvision import datasets, transforms\n",
    "import torch\n",
    "import numpy as np\n",
    "\n",
    "\n",
    "loader = torch.utils.data.DataLoader(\n",
    "    datasets.CIFAR10('../data/', train=True, download=True,\n",
    "        transform=transforms.Compose([\n",
    "            transforms.ToTensor(),\n",
    "            transforms.Normalize((0.5, 0.5, 0.5), (0.5, 0.5, 0.5))])),\n",
    "        batch_size=256, shuffle=True, num_workers=1, pin_memory=True)"
   ]
  },
  {
   "cell_type": "code",
   "execution_count": 27,
   "metadata": {},
   "outputs": [
    {
     "name": "stdout",
     "output_type": "stream",
     "text": [
      "torch.Size([64, 1, 3, 32, 32])\n",
      "torch.Size([64, 1, 3, 32, 32])\n",
      "torch.Size([64, 1, 3, 32, 32])\n",
      "torch.Size([64, 1, 3, 32, 32])\n",
      "torch.Size([64, 1, 3, 32, 32])\n",
      "torch.Size([64, 1, 3, 32, 32])\n",
      "torch.Size([64, 1, 3, 32, 32])\n",
      "torch.Size([64, 1, 3, 32, 32])\n",
      "torch.Size([64, 1, 3, 32, 32])\n",
      "torch.Size([64, 1, 3, 32, 32])\n",
      "torch.Size([64, 1, 3, 32, 32])\n",
      "torch.Size([64, 1, 3, 32, 32])\n",
      "torch.Size([64, 1, 3, 32, 32])\n",
      "torch.Size([64, 1, 3, 32, 32])\n",
      "torch.Size([64, 1, 3, 32, 32])\n",
      "torch.Size([64, 1, 3, 32, 32])\n",
      "torch.Size([64, 1, 3, 32, 32])\n",
      "torch.Size([64, 1, 3, 32, 32])\n",
      "torch.Size([64, 1, 3, 32, 32])\n",
      "torch.Size([64, 1, 3, 32, 32])\n",
      "torch.Size([64, 1, 3, 32, 32])\n",
      "torch.Size([64, 1, 3, 32, 32])\n",
      "torch.Size([64, 1, 3, 32, 32])\n",
      "torch.Size([64, 1, 3, 32, 32])\n",
      "torch.Size([64, 1, 3, 32, 32])\n",
      "torch.Size([64, 1, 3, 32, 32])\n",
      "torch.Size([64, 1, 3, 32, 32])\n",
      "torch.Size([64, 1, 3, 32, 32])\n",
      "torch.Size([64, 1, 3, 32, 32])\n",
      "torch.Size([64, 1, 3, 32, 32])\n",
      "torch.Size([64, 1, 3, 32, 32])\n",
      "torch.Size([64, 1, 3, 32, 32])\n",
      "torch.Size([64, 1, 3, 32, 32])\n",
      "torch.Size([64, 1, 3, 32, 32])\n",
      "torch.Size([64, 1, 3, 32, 32])\n",
      "torch.Size([64, 1, 3, 32, 32])\n",
      "torch.Size([64, 1, 3, 32, 32])\n",
      "torch.Size([64, 1, 3, 32, 32])\n",
      "torch.Size([64, 1, 3, 32, 32])\n",
      "torch.Size([64, 1, 3, 32, 32])\n",
      "torch.Size([64, 1, 3, 32, 32])\n",
      "torch.Size([64, 1, 3, 32, 32])\n",
      "torch.Size([64, 1, 3, 32, 32])\n",
      "torch.Size([64, 1, 3, 32, 32])\n",
      "torch.Size([64, 1, 3, 32, 32])\n",
      "torch.Size([64, 1, 3, 32, 32])\n",
      "torch.Size([64, 1, 3, 32, 32])\n",
      "torch.Size([64, 1, 3, 32, 32])\n",
      "torch.Size([64, 1, 3, 32, 32])\n",
      "torch.Size([64, 1, 3, 32, 32])\n",
      "torch.Size([64, 1, 3, 32, 32])\n",
      "torch.Size([64, 1, 3, 32, 32])\n",
      "torch.Size([64, 1, 3, 32, 32])\n",
      "torch.Size([64, 1, 3, 32, 32])\n",
      "torch.Size([64, 1, 3, 32, 32])\n",
      "torch.Size([64, 1, 3, 32, 32])\n",
      "torch.Size([64, 1, 3, 32, 32])\n",
      "torch.Size([64, 1, 3, 32, 32])\n",
      "torch.Size([64, 1, 3, 32, 32])\n",
      "torch.Size([64, 1, 3, 32, 32])\n",
      "torch.Size([64, 1, 3, 32, 32])\n",
      "torch.Size([64, 1, 3, 32, 32])\n",
      "torch.Size([64, 1, 3, 32, 32])\n",
      "torch.Size([64, 1, 3, 32, 32])\n",
      "torch.Size([64, 1, 3, 32, 32])\n",
      "torch.Size([64, 1, 3, 32, 32])\n",
      "torch.Size([64, 1, 3, 32, 32])\n",
      "torch.Size([64, 1, 3, 32, 32])\n",
      "torch.Size([64, 1, 3, 32, 32])\n",
      "torch.Size([64, 1, 3, 32, 32])\n",
      "torch.Size([64, 1, 3, 32, 32])\n",
      "torch.Size([64, 1, 3, 32, 32])\n",
      "torch.Size([64, 1, 3, 32, 32])\n",
      "torch.Size([64, 1, 3, 32, 32])\n",
      "torch.Size([64, 1, 3, 32, 32])\n",
      "torch.Size([64, 1, 3, 32, 32])\n",
      "torch.Size([64, 1, 3, 32, 32])\n",
      "torch.Size([64, 1, 3, 32, 32])\n",
      "torch.Size([64, 1, 3, 32, 32])\n",
      "torch.Size([64, 1, 3, 32, 32])\n",
      "torch.Size([64, 1, 3, 32, 32])\n",
      "torch.Size([64, 1, 3, 32, 32])\n",
      "torch.Size([64, 1, 3, 32, 32])\n",
      "torch.Size([64, 1, 3, 32, 32])\n",
      "torch.Size([64, 1, 3, 32, 32])\n",
      "torch.Size([64, 1, 3, 32, 32])\n",
      "torch.Size([64, 1, 3, 32, 32])\n",
      "torch.Size([64, 1, 3, 32, 32])\n",
      "torch.Size([64, 1, 3, 32, 32])\n",
      "torch.Size([64, 1, 3, 32, 32])\n",
      "torch.Size([64, 1, 3, 32, 32])\n",
      "torch.Size([64, 1, 3, 32, 32])\n",
      "torch.Size([64, 1, 3, 32, 32])\n",
      "torch.Size([64, 1, 3, 32, 32])\n",
      "torch.Size([64, 1, 3, 32, 32])\n",
      "torch.Size([64, 1, 3, 32, 32])\n",
      "torch.Size([64, 1, 3, 32, 32])\n",
      "torch.Size([64, 1, 3, 32, 32])\n",
      "torch.Size([64, 1, 3, 32, 32])\n",
      "torch.Size([64, 1, 3, 32, 32])\n",
      "torch.Size([64, 1, 3, 32, 32])\n",
      "torch.Size([64, 1, 3, 32, 32])\n",
      "torch.Size([64, 1, 3, 32, 32])\n",
      "torch.Size([64, 1, 3, 32, 32])\n",
      "torch.Size([64, 1, 3, 32, 32])\n",
      "torch.Size([64, 1, 3, 32, 32])\n",
      "torch.Size([64, 1, 3, 32, 32])\n",
      "torch.Size([64, 1, 3, 32, 32])\n",
      "torch.Size([64, 1, 3, 32, 32])\n",
      "torch.Size([64, 1, 3, 32, 32])\n",
      "torch.Size([64, 1, 3, 32, 32])\n",
      "torch.Size([64, 1, 3, 32, 32])\n",
      "torch.Size([64, 1, 3, 32, 32])\n",
      "torch.Size([64, 1, 3, 32, 32])\n",
      "torch.Size([64, 1, 3, 32, 32])\n",
      "torch.Size([64, 1, 3, 32, 32])\n",
      "torch.Size([64, 1, 3, 32, 32])\n",
      "torch.Size([64, 1, 3, 32, 32])\n",
      "torch.Size([64, 1, 3, 32, 32])\n",
      "torch.Size([64, 1, 3, 32, 32])\n",
      "torch.Size([64, 1, 3, 32, 32])\n",
      "torch.Size([64, 1, 3, 32, 32])\n",
      "torch.Size([64, 1, 3, 32, 32])\n",
      "torch.Size([64, 1, 3, 32, 32])\n",
      "torch.Size([64, 1, 3, 32, 32])\n",
      "torch.Size([64, 1, 3, 32, 32])\n",
      "torch.Size([64, 1, 3, 32, 32])\n",
      "torch.Size([64, 1, 3, 32, 32])\n",
      "torch.Size([64, 1, 3, 32, 32])\n",
      "torch.Size([64, 1, 3, 32, 32])\n",
      "torch.Size([64, 1, 3, 32, 32])\n",
      "torch.Size([64, 1, 3, 32, 32])\n",
      "torch.Size([64, 1, 3, 32, 32])\n",
      "torch.Size([64, 1, 3, 32, 32])\n",
      "torch.Size([64, 1, 3, 32, 32])\n",
      "torch.Size([64, 1, 3, 32, 32])\n",
      "torch.Size([64, 1, 3, 32, 32])\n",
      "torch.Size([64, 1, 3, 32, 32])\n",
      "torch.Size([64, 1, 3, 32, 32])\n"
     ]
    },
    {
     "name": "stderr",
     "output_type": "stream",
     "text": [
      "Process Process-22:\n",
      "Traceback (most recent call last):\n",
      "  File \"/home/christian/.conda/envs/pytorch2/lib/python3.6/site-packages/torch/utils/data/dataloader.py\", line 57, in _worker_loop\n",
      "    samples = collate_fn([dataset[i] for i in batch_indices])\n",
      "  File \"/home/christian/.conda/envs/pytorch2/lib/python3.6/multiprocessing/process.py\", line 258, in _bootstrap\n",
      "    self.run()\n",
      "  File \"/home/christian/.conda/envs/pytorch2/lib/python3.6/multiprocessing/process.py\", line 93, in run\n",
      "    self._target(*self._args, **self._kwargs)\n",
      "  File \"/home/christian/.conda/envs/pytorch2/lib/python3.6/site-packages/torch/utils/data/dataloader.py\", line 57, in <listcomp>\n",
      "    samples = collate_fn([dataset[i] for i in batch_indices])\n",
      "  File \"/home/christian/.conda/envs/pytorch2/lib/python3.6/site-packages/torchvision-0.2.1-py3.6.egg/torchvision/datasets/cifar.py\", line 121, in __getitem__\n",
      "    img = self.transform(img)\n",
      "  File \"/home/christian/.conda/envs/pytorch2/lib/python3.6/site-packages/torchvision-0.2.1-py3.6.egg/torchvision/transforms/transforms.py\", line 49, in __call__\n",
      "    img = t(img)\n",
      "  File \"/home/christian/.conda/envs/pytorch2/lib/python3.6/site-packages/torchvision-0.2.1-py3.6.egg/torchvision/transforms/transforms.py\", line 76, in __call__\n",
      "    return F.to_tensor(pic)\n"
     ]
    },
    {
     "name": "stdout",
     "output_type": "stream",
     "text": [
      "torch.Size([64, 1, 3, 32, 32])\n"
     ]
    },
    {
     "name": "stderr",
     "output_type": "stream",
     "text": [
      "KeyboardInterrupt\n",
      "  File \"/home/christian/.conda/envs/pytorch2/lib/python3.6/site-packages/torchvision-0.2.1-py3.6.egg/torchvision/transforms/functional.py\", line 77, in to_tensor\n",
      "    nchannel = len(pic.mode)\n"
     ]
    },
    {
     "ename": "KeyboardInterrupt",
     "evalue": "",
     "output_type": "error",
     "traceback": [
      "\u001b[0;31m---------------------------------------------------------------------------\u001b[0m",
      "\u001b[0;31mKeyboardInterrupt\u001b[0m                         Traceback (most recent call last)",
      "\u001b[0;32m<ipython-input-27-bd3b91480278>\u001b[0m in \u001b[0;36m<module>\u001b[0;34m()\u001b[0m\n\u001b[1;32m      1\u001b[0m \u001b[0mnum_classes\u001b[0m \u001b[0;34m=\u001b[0m \u001b[0;36m10\u001b[0m\u001b[0;34m\u001b[0m\u001b[0m\n\u001b[1;32m      2\u001b[0m \u001b[0;34m\u001b[0m\u001b[0m\n\u001b[0;32m----> 3\u001b[0;31m \u001b[0;32mfor\u001b[0m \u001b[0;34m(\u001b[0m\u001b[0md\u001b[0m\u001b[0;34m,\u001b[0m \u001b[0mt\u001b[0m\u001b[0;34m)\u001b[0m \u001b[0;32min\u001b[0m \u001b[0mloader\u001b[0m\u001b[0;34m:\u001b[0m\u001b[0;34m\u001b[0m\u001b[0m\n\u001b[0m\u001b[1;32m      4\u001b[0m \u001b[0;34m\u001b[0m\u001b[0m\n\u001b[1;32m      5\u001b[0m     \u001b[0mrand_class\u001b[0m \u001b[0;34m=\u001b[0m \u001b[0mnp\u001b[0m\u001b[0;34m.\u001b[0m\u001b[0mrandom\u001b[0m\u001b[0;34m.\u001b[0m\u001b[0mrandint\u001b[0m\u001b[0;34m(\u001b[0m\u001b[0mnum_classes\u001b[0m\u001b[0;34m)\u001b[0m\u001b[0;34m\u001b[0m\u001b[0m\n",
      "\u001b[0;32m~/.conda/envs/pytorch2/lib/python3.6/site-packages/torch/utils/data/dataloader.py\u001b[0m in \u001b[0;36m__next__\u001b[0;34m(self)\u001b[0m\n\u001b[1;32m    278\u001b[0m         \u001b[0;32mwhile\u001b[0m \u001b[0;32mTrue\u001b[0m\u001b[0;34m:\u001b[0m\u001b[0;34m\u001b[0m\u001b[0m\n\u001b[1;32m    279\u001b[0m             \u001b[0;32massert\u001b[0m \u001b[0;34m(\u001b[0m\u001b[0;32mnot\u001b[0m \u001b[0mself\u001b[0m\u001b[0;34m.\u001b[0m\u001b[0mshutdown\u001b[0m \u001b[0;32mand\u001b[0m \u001b[0mself\u001b[0m\u001b[0;34m.\u001b[0m\u001b[0mbatches_outstanding\u001b[0m \u001b[0;34m>\u001b[0m \u001b[0;36m0\u001b[0m\u001b[0;34m)\u001b[0m\u001b[0;34m\u001b[0m\u001b[0m\n\u001b[0;32m--> 280\u001b[0;31m             \u001b[0midx\u001b[0m\u001b[0;34m,\u001b[0m \u001b[0mbatch\u001b[0m \u001b[0;34m=\u001b[0m \u001b[0mself\u001b[0m\u001b[0;34m.\u001b[0m\u001b[0m_get_batch\u001b[0m\u001b[0;34m(\u001b[0m\u001b[0;34m)\u001b[0m\u001b[0;34m\u001b[0m\u001b[0m\n\u001b[0m\u001b[1;32m    281\u001b[0m             \u001b[0mself\u001b[0m\u001b[0;34m.\u001b[0m\u001b[0mbatches_outstanding\u001b[0m \u001b[0;34m-=\u001b[0m \u001b[0;36m1\u001b[0m\u001b[0;34m\u001b[0m\u001b[0m\n\u001b[1;32m    282\u001b[0m             \u001b[0;32mif\u001b[0m \u001b[0midx\u001b[0m \u001b[0;34m!=\u001b[0m \u001b[0mself\u001b[0m\u001b[0;34m.\u001b[0m\u001b[0mrcvd_idx\u001b[0m\u001b[0;34m:\u001b[0m\u001b[0;34m\u001b[0m\u001b[0m\n",
      "\u001b[0;32m~/.conda/envs/pytorch2/lib/python3.6/site-packages/torch/utils/data/dataloader.py\u001b[0m in \u001b[0;36m_get_batch\u001b[0;34m(self)\u001b[0m\n\u001b[1;32m    257\u001b[0m                 \u001b[0;32mraise\u001b[0m \u001b[0mRuntimeError\u001b[0m\u001b[0;34m(\u001b[0m\u001b[0;34m'DataLoader timed out after {} seconds'\u001b[0m\u001b[0;34m.\u001b[0m\u001b[0mformat\u001b[0m\u001b[0;34m(\u001b[0m\u001b[0mself\u001b[0m\u001b[0;34m.\u001b[0m\u001b[0mtimeout\u001b[0m\u001b[0;34m)\u001b[0m\u001b[0;34m)\u001b[0m\u001b[0;34m\u001b[0m\u001b[0m\n\u001b[1;32m    258\u001b[0m         \u001b[0;32melse\u001b[0m\u001b[0;34m:\u001b[0m\u001b[0;34m\u001b[0m\u001b[0m\n\u001b[0;32m--> 259\u001b[0;31m             \u001b[0;32mreturn\u001b[0m \u001b[0mself\u001b[0m\u001b[0;34m.\u001b[0m\u001b[0mdata_queue\u001b[0m\u001b[0;34m.\u001b[0m\u001b[0mget\u001b[0m\u001b[0;34m(\u001b[0m\u001b[0;34m)\u001b[0m\u001b[0;34m\u001b[0m\u001b[0m\n\u001b[0m\u001b[1;32m    260\u001b[0m \u001b[0;34m\u001b[0m\u001b[0m\n\u001b[1;32m    261\u001b[0m     \u001b[0;32mdef\u001b[0m \u001b[0m__next__\u001b[0m\u001b[0;34m(\u001b[0m\u001b[0mself\u001b[0m\u001b[0;34m)\u001b[0m\u001b[0;34m:\u001b[0m\u001b[0;34m\u001b[0m\u001b[0m\n",
      "\u001b[0;32m~/.conda/envs/pytorch2/lib/python3.6/queue.py\u001b[0m in \u001b[0;36mget\u001b[0;34m(self, block, timeout)\u001b[0m\n\u001b[1;32m    162\u001b[0m             \u001b[0;32melif\u001b[0m \u001b[0mtimeout\u001b[0m \u001b[0;32mis\u001b[0m \u001b[0;32mNone\u001b[0m\u001b[0;34m:\u001b[0m\u001b[0;34m\u001b[0m\u001b[0m\n\u001b[1;32m    163\u001b[0m                 \u001b[0;32mwhile\u001b[0m \u001b[0;32mnot\u001b[0m \u001b[0mself\u001b[0m\u001b[0;34m.\u001b[0m\u001b[0m_qsize\u001b[0m\u001b[0;34m(\u001b[0m\u001b[0;34m)\u001b[0m\u001b[0;34m:\u001b[0m\u001b[0;34m\u001b[0m\u001b[0m\n\u001b[0;32m--> 164\u001b[0;31m                     \u001b[0mself\u001b[0m\u001b[0;34m.\u001b[0m\u001b[0mnot_empty\u001b[0m\u001b[0;34m.\u001b[0m\u001b[0mwait\u001b[0m\u001b[0;34m(\u001b[0m\u001b[0;34m)\u001b[0m\u001b[0;34m\u001b[0m\u001b[0m\n\u001b[0m\u001b[1;32m    165\u001b[0m             \u001b[0;32melif\u001b[0m \u001b[0mtimeout\u001b[0m \u001b[0;34m<\u001b[0m \u001b[0;36m0\u001b[0m\u001b[0;34m:\u001b[0m\u001b[0;34m\u001b[0m\u001b[0m\n\u001b[1;32m    166\u001b[0m                 \u001b[0;32mraise\u001b[0m \u001b[0mValueError\u001b[0m\u001b[0;34m(\u001b[0m\u001b[0;34m\"'timeout' must be a non-negative number\"\u001b[0m\u001b[0;34m)\u001b[0m\u001b[0;34m\u001b[0m\u001b[0m\n",
      "\u001b[0;32m~/.conda/envs/pytorch2/lib/python3.6/threading.py\u001b[0m in \u001b[0;36mwait\u001b[0;34m(self, timeout)\u001b[0m\n\u001b[1;32m    293\u001b[0m         \u001b[0;32mtry\u001b[0m\u001b[0;34m:\u001b[0m    \u001b[0;31m# restore state no matter what (e.g., KeyboardInterrupt)\u001b[0m\u001b[0;34m\u001b[0m\u001b[0m\n\u001b[1;32m    294\u001b[0m             \u001b[0;32mif\u001b[0m \u001b[0mtimeout\u001b[0m \u001b[0;32mis\u001b[0m \u001b[0;32mNone\u001b[0m\u001b[0;34m:\u001b[0m\u001b[0;34m\u001b[0m\u001b[0m\n\u001b[0;32m--> 295\u001b[0;31m                 \u001b[0mwaiter\u001b[0m\u001b[0;34m.\u001b[0m\u001b[0macquire\u001b[0m\u001b[0;34m(\u001b[0m\u001b[0;34m)\u001b[0m\u001b[0;34m\u001b[0m\u001b[0m\n\u001b[0m\u001b[1;32m    296\u001b[0m                 \u001b[0mgotit\u001b[0m \u001b[0;34m=\u001b[0m \u001b[0;32mTrue\u001b[0m\u001b[0;34m\u001b[0m\u001b[0m\n\u001b[1;32m    297\u001b[0m             \u001b[0;32melse\u001b[0m\u001b[0;34m:\u001b[0m\u001b[0;34m\u001b[0m\u001b[0m\n",
      "\u001b[0;31mKeyboardInterrupt\u001b[0m: "
     ]
    }
   ],
   "source": [
    "num_classes = 10\n",
    "\n",
    "for (d, t) in loader:\n",
    "    \n",
    "    rand_class = np.random.randint(num_classes)\n",
    "#     print(t)\n",
    "\n",
    "    samples = d[(t == rand_class).nonzero()]\n",
    "    bsize = samples.size(0)\n",
    "    print(samples.repeat((64 // bsize + 1, 1, 1, 1, 1))[:64].size())\n",
    "    #break"
   ]
  },
  {
   "cell_type": "code",
   "execution_count": 46,
   "metadata": {},
   "outputs": [
    {
     "data": {
      "text/plain": [
       "tensor([[ 5,  5,  5,  5,  5,  5,  5,  5,  5,  5],\n",
       "        [ 5,  5,  5,  5,  5,  5,  5,  5,  5,  5],\n",
       "        [ 5,  5,  5,  5,  5,  5,  5,  5,  5,  5],\n",
       "        [ 5,  5,  5,  5,  5,  5,  5,  5,  5,  5],\n",
       "        [ 5,  5,  5,  5,  5,  5,  5,  5,  5,  5],\n",
       "        [ 5,  5,  5,  5,  5,  5,  5,  5,  5,  5],\n",
       "        [ 5,  5,  5,  5,  5,  5,  5,  5,  5,  5],\n",
       "        [ 5,  5,  5,  5,  5,  5,  5,  5,  5,  5],\n",
       "        [ 5,  5,  5,  5,  5,  5,  5,  5,  5,  5],\n",
       "        [ 5,  5,  5,  5,  5,  5,  5,  5,  5,  5]], device='cuda:0')"
      ]
     },
     "execution_count": 46,
     "metadata": {},
     "output_type": "execute_result"
    }
   ],
   "source": [
    "rand_c_onehot.new_full((10,10), 5, dtype=torch.long)"
   ]
  },
  {
   "cell_type": "code",
   "execution_count": 51,
   "metadata": {},
   "outputs": [
    {
     "data": {
      "text/plain": [
       "tensor([[ 0.,  0.,  0.,  0.,  0.,  1.,  0.,  0.,  0.,  0.]], device='cuda:0')"
      ]
     },
     "execution_count": 51,
     "metadata": {},
     "output_type": "execute_result"
    }
   ],
   "source": [
    "torch.ones(1)\n",
    "rand_c_onehot = torch.FloatTensor(1, num_classes).cuda()\n",
    "rand_c_onehot.zero_()\n",
    "rand_c_onehot[:,5] = 1\n",
    "rand_c_onehot"
   ]
  },
  {
   "cell_type": "code",
   "execution_count": null,
   "metadata": {},
   "outputs": [],
   "source": []
  }
 ],
 "metadata": {
  "kernelspec": {
   "display_name": "Python 3",
   "language": "python",
   "name": "python3"
  },
  "language_info": {
   "codemirror_mode": {
    "name": "ipython",
    "version": 3
   },
   "file_extension": ".py",
   "mimetype": "text/x-python",
   "name": "python",
   "nbconvert_exporter": "python",
   "pygments_lexer": "ipython3",
   "version": "3.6.4"
  }
 },
 "nbformat": 4,
 "nbformat_minor": 2
}
